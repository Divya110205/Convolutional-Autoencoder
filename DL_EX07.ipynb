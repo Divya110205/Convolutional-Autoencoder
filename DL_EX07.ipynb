{
  "nbformat": 4,
  "nbformat_minor": 0,
  "metadata": {
    "colab": {
      "provenance": [],
      "gpuType": "T4",
      "authorship_tag": "ABX9TyM9heAh63LqoGFgoEah2Gjx"
    },
    "kernelspec": {
      "name": "python3",
      "display_name": "Python 3"
    },
    "language_info": {
      "name": "python"
    },
    "accelerator": "GPU"
  },
  "cells": [
    {
      "cell_type": "code",
      "execution_count": 1,
      "metadata": {
        "id": "_RWoyEa8hMcv"
      },
      "outputs": [],
      "source": [
        "# Autoencoder for Image Denoising using PyTorch\n",
        "\n",
        "import torch\n",
        "import torch.nn as nn\n",
        "import torch.optim as optim\n",
        "from torch.utils.data import DataLoader\n",
        "from torchvision import datasets, transforms\n",
        "import matplotlib.pyplot as plt\n",
        "import numpy as np\n",
        "from torchsummary import summary\n"
      ]
    },
    {
      "cell_type": "code",
      "source": [
        "# Device configuration\n",
        "device = torch.device(\"cuda\" if torch.cuda.is_available() else \"cpu\")"
      ],
      "metadata": {
        "id": "KUu5WvTZ1rXV"
      },
      "execution_count": 2,
      "outputs": []
    },
    {
      "cell_type": "code",
      "source": [
        "# Transform: Normalize and convert to tensor\n",
        "transform = transforms.Compose([\n",
        "    transforms.ToTensor()\n",
        "])"
      ],
      "metadata": {
        "id": "-upX53HX2ACL"
      },
      "execution_count": 3,
      "outputs": []
    },
    {
      "cell_type": "code",
      "source": [
        "# Load MNIST dataset\n",
        "dataset = datasets.MNIST(root='./data', train=True, download=True, transform=transform)\n",
        "test_dataset = datasets.MNIST(root='./data', train=False, download=True, transform=transform)\n",
        "\n",
        "train_loader = DataLoader(dataset, batch_size=128, shuffle=True)\n",
        "test_loader = DataLoader(test_dataset, batch_size=128, shuffle=False)"
      ],
      "metadata": {
        "colab": {
          "base_uri": "https://localhost:8080/"
        },
        "id": "kBtOkSBf2Buk",
        "outputId": "2b02a0f5-f38d-4474-9516-0b63c2e9edcd"
      },
      "execution_count": 4,
      "outputs": [
        {
          "output_type": "stream",
          "name": "stderr",
          "text": [
            "100%|██████████| 9.91M/9.91M [00:00<00:00, 16.8MB/s]\n",
            "100%|██████████| 28.9k/28.9k [00:00<00:00, 495kB/s]\n",
            "100%|██████████| 1.65M/1.65M [00:00<00:00, 4.57MB/s]\n",
            "100%|██████████| 4.54k/4.54k [00:00<00:00, 6.84MB/s]\n"
          ]
        }
      ]
    },
    {
      "cell_type": "code",
      "source": [
        "# Add noise to images\n",
        "def add_noise(inputs, noise_factor=0.5):\n",
        "    noisy = inputs + noise_factor * torch.randn_like(inputs)\n",
        "    return torch.clamp(noisy, 0., 1.)"
      ],
      "metadata": {
        "id": "HlU_Z2r32EDx"
      },
      "execution_count": 5,
      "outputs": []
    },
    {
      "cell_type": "code",
      "source": [
        "# Define Autoencoder\n",
        "class DenoisingAutoencoder(nn.Module):\n",
        "    def __init__(self):\n",
        "        super(DenoisingAutoencoder, self).__init__()\n",
        "        self.encoder = nn.Sequential(\n",
        "            nn.Conv2d(1, 16, kernel_size=3, padding=1),  # 28x28 -> 28x28\n",
        "            nn.ReLU(),\n",
        "            nn.MaxPool2d(2, 2),  # 28x28 -> 14x14\n",
        "            nn.Conv2d(16, 8, kernel_size=3, padding=1),  # 14x14 -> 14x14\n",
        "            nn.ReLU(),\n",
        "            nn.MaxPool2d(2, 2)   # 14x14 -> 7x7\n",
        "        )\n",
        "        self.decoder = nn.Sequential(\n",
        "            nn.ConvTranspose2d(8, 16, kernel_size=2, stride=2),  # 7x7 -> 14x14\n",
        "            nn.ReLU(),\n",
        "            nn.ConvTranspose2d(16, 1, kernel_size=2, stride=2),  # 14x14 -> 28x28\n",
        "            nn.Sigmoid()  # Ensure output values between 0 and 1\n",
        "        )\n",
        "\n",
        "    def forward(self, x):\n",
        "        x = self.encoder(x)\n",
        "        x = self.decoder(x)\n",
        "        return x"
      ],
      "metadata": {
        "id": "1tg7Wv2R2O8b"
      },
      "execution_count": 6,
      "outputs": []
    },
    {
      "cell_type": "code",
      "source": [
        "# Initialize model, loss function and optimizer\n",
        "model = DenoisingAutoencoder().to(device)\n",
        "criterion = nn.MSELoss()\n",
        "optimizer = optim.Adam(model.parameters(), lr=1e-3)"
      ],
      "metadata": {
        "id": "k_6mavRr2xGK"
      },
      "execution_count": 7,
      "outputs": []
    },
    {
      "cell_type": "code",
      "source": [
        "# Print model summary\n",
        "summary(model, input_size=(1, 28, 28))"
      ],
      "metadata": {
        "colab": {
          "base_uri": "https://localhost:8080/"
        },
        "id": "QdZXoO582y2n",
        "outputId": "b20c75e7-d339-4b42-896b-3e8e238aa288"
      },
      "execution_count": 8,
      "outputs": [
        {
          "output_type": "stream",
          "name": "stdout",
          "text": [
            "----------------------------------------------------------------\n",
            "        Layer (type)               Output Shape         Param #\n",
            "================================================================\n",
            "            Conv2d-1           [-1, 16, 28, 28]             160\n",
            "              ReLU-2           [-1, 16, 28, 28]               0\n",
            "         MaxPool2d-3           [-1, 16, 14, 14]               0\n",
            "            Conv2d-4            [-1, 8, 14, 14]           1,160\n",
            "              ReLU-5            [-1, 8, 14, 14]               0\n",
            "         MaxPool2d-6              [-1, 8, 7, 7]               0\n",
            "   ConvTranspose2d-7           [-1, 16, 14, 14]             528\n",
            "              ReLU-8           [-1, 16, 14, 14]               0\n",
            "   ConvTranspose2d-9            [-1, 1, 28, 28]              65\n",
            "          Sigmoid-10            [-1, 1, 28, 28]               0\n",
            "================================================================\n",
            "Total params: 1,913\n",
            "Trainable params: 1,913\n",
            "Non-trainable params: 0\n",
            "----------------------------------------------------------------\n",
            "Input size (MB): 0.00\n",
            "Forward/backward pass size (MB): 0.30\n",
            "Params size (MB): 0.01\n",
            "Estimated Total Size (MB): 0.31\n",
            "----------------------------------------------------------------\n"
          ]
        }
      ]
    },
    {
      "cell_type": "code",
      "source": [
        "# Train the autoencoder\n",
        "def train(model, loader, criterion, optimizer, epochs=5):\n",
        "    model.train()\n",
        "    for epoch in range(epochs):\n",
        "        total_loss = 0\n",
        "        for images, _ in loader:\n",
        "            images = images.to(device)\n",
        "            noisy_images = add_noise(images).to(device)\n",
        "\n",
        "            outputs = model(noisy_images)\n",
        "            loss = criterion(outputs, images)\n",
        "\n",
        "            optimizer.zero_grad()\n",
        "            loss.backward()\n",
        "            optimizer.step()\n",
        "\n",
        "            total_loss += loss.item()\n",
        "\n",
        "        print(f\"Epoch [{epoch+1}/{epochs}], Loss: {total_loss/len(loader):.4f}\")"
      ],
      "metadata": {
        "id": "HQ1s4EUh29Sn"
      },
      "execution_count": 10,
      "outputs": []
    },
    {
      "cell_type": "code",
      "source": [
        "\n",
        "# Evaluate and visualize\n",
        "def visualize_denoising(model, loader, num_images=5):\n",
        "    model.eval()\n",
        "    with torch.no_grad():\n",
        "        for images, _ in loader:\n",
        "            images = images.to(device)\n",
        "            noisy_images = add_noise(images).to(device)\n",
        "            outputs = model(noisy_images)\n",
        "            break\n",
        "\n",
        "    images = images.cpu().numpy()\n",
        "    noisy_images = noisy_images.cpu().numpy()\n",
        "    outputs = outputs.cpu().numpy()\n",
        "\n",
        "    print(\"Name:  Divya.A\")\n",
        "    print(\"Register Number: 212222230034\")\n",
        "    plt.figure(figsize=(18, 6))\n",
        "    for i in range(num_images):\n",
        "        # Original\n",
        "        ax = plt.subplot(3, num_images, i + 1)\n",
        "        plt.imshow(images[i].squeeze(), cmap='gray')\n",
        "        ax.set_title(\"Original\")\n",
        "        plt.axis(\"off\")\n",
        "\n",
        "        # Noisy\n",
        "        ax = plt.subplot(3, num_images, i + 1 + num_images)\n",
        "        plt.imshow(noisy_images[i].squeeze(), cmap='gray')\n",
        "        ax.set_title(\"Noisy\")\n",
        "        plt.axis(\"off\")\n",
        "\n",
        "        # Denoised\n",
        "        ax = plt.subplot(3, num_images, i + 1 + 2 * num_images)\n",
        "        plt.imshow(outputs[i].squeeze(), cmap='gray')\n",
        "        ax.set_title(\"Denoised\")\n",
        "        plt.axis(\"off\")\n",
        "\n",
        "    plt.tight_layout()\n",
        "    plt.show()"
      ],
      "metadata": {
        "id": "-Nv8S1dA3AIo"
      },
      "execution_count": 19,
      "outputs": []
    },
    {
      "cell_type": "code",
      "source": [
        "\n",
        "# Run training and visualization\n",
        "train(model, train_loader, criterion, optimizer, epochs=5)\n",
        "visualize_denoising(model, test_loader)"
      ],
      "metadata": {
        "colab": {
          "base_uri": "https://localhost:8080/",
          "height": 687
        },
        "id": "jVuckyp03E-S",
        "outputId": "38393686-1cec-4633-8210-1ae8adead044"
      },
      "execution_count": 20,
      "outputs": [
        {
          "output_type": "stream",
          "name": "stdout",
          "text": [
            "Epoch [1/5], Loss: 0.0175\n",
            "Epoch [2/5], Loss: 0.0174\n",
            "Epoch [3/5], Loss: 0.0174\n",
            "Epoch [4/5], Loss: 0.0174\n",
            "Epoch [5/5], Loss: 0.0173\n",
            "Name:  Divya.A\n",
            "Register Number: 212222230034\n"
          ]
        },
        {
          "output_type": "display_data",
          "data": {
            "text/plain": [
              "<Figure size 1800x600 with 15 Axes>"
            ],
            "image/png": "[encoded data removed]"
          },
          "metadata": {}
        }
      ]
    },
    {
      "cell_type": "code",
      "source": [],
      "metadata": {
        "id": "skMWUApK44J0"
      },
      "execution_count": null,
      "outputs": []
    }
  ]
}